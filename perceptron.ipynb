{
 "cells": [
  {
   "cell_type": "code",
   "execution_count": 56,
   "metadata": {},
   "outputs": [
    {
     "name": "stdout",
     "output_type": "stream",
     "text": [
      "Download ready.\n"
     ]
    }
   ],
   "source": [
    "###VANILLA PERCEPTRON\n",
    "import requests\n",
    "from numpy import genfromtxt\n",
    "import pandas as pd\n",
    "import matplotlib.pyplot as plt\n",
    "import numpy as np\n"
   ]
  },
  {
   "cell_type": "code",
   "execution_count": 100,
   "metadata": {},
   "outputs": [],
   "source": [
    "my_data = genfromtxt('database.csv', delimiter=',')\n",
    "data_transpose = my_data.T\n",
    "y = data_transpose[len(data_transpose)-1].astype(int)\n",
    "\n",
    "w = np.zeros(len(data_transpose)-1)\n",
    "bias =0  \n",
    "#keeping a low learning rate for convinience\n",
    "learning_rate = 0.5              #just a guess. can be anything\n",
    "maximum_iteration_cycles = 100    #just a guess. can be anything"
   ]
  },
  {
   "cell_type": "code",
   "execution_count": 101,
   "metadata": {},
   "outputs": [],
   "source": [
    "#defining the vanilla perceptron if else loops as discussed in class\n",
    "def vanilla_perceptron(y,data, w, bias, maximum_iteration_cycles):\n",
    "    for k in range(1, maximum_iteration_cycles):\n",
    "        for i in range(len(data)):\n",
    "            s = 0    #ah yes! the variable defines itself\n",
    "            for j in range(len(data[i])-1):\n",
    "                s += data[i][j] * w[j]    #here we are going to use this s in the formula\n",
    "            output = bias + s             #yes, this formula\n",
    "            if y[i] * output <= 0:\n",
    "                for j in range(len(w)):\n",
    "                    w[j] = w[j] + (y[i]* data[i][j])    #iteration call\n",
    "                bias = bias + y[i]\n",
    "        #print(\"For epoch\", k, \"w and b \", w, bias) ; do this if you need the output for each iteration. Or else as we need just the final output here the next box.\n",
    "        \n",
    "    return w, bias"
   ]
  },
  {
   "cell_type": "code",
   "execution_count": 102,
   "metadata": {},
   "outputs": [
    {
     "name": "stdout",
     "output_type": "stream",
     "text": [
      "w and b  [-1.3 -4.1  5.2  2.2] -1\n"
     ]
    }
   ],
   "source": [
    "w, bias = vanilla_perceptron(y,my_data, w, bias, maximum_iteration_cycles)\n",
    "print(\"w and b \", w, bias)    "
   ]
  },
  {
   "cell_type": "code",
   "execution_count": null,
   "metadata": {},
   "outputs": [],
   "source": []
  },
  {
   "cell_type": "code",
   "execution_count": null,
   "metadata": {},
   "outputs": [],
   "source": []
  }
 ],
 "metadata": {
  "interpreter": {
   "hash": "1baa965d5efe3ac65b79dfc60c0d706280b1da80fedb7760faf2759126c4f253"
  },
  "kernelspec": {
   "display_name": "Python 3",
   "language": "python",
   "name": "python3"
  },
  "language_info": {
   "codemirror_mode": {
    "name": "ipython",
    "version": 3
   },
   "file_extension": ".py",
   "mimetype": "text/x-python",
   "name": "python",
   "nbconvert_exporter": "python",
   "pygments_lexer": "ipython3",
   "version": "3.8.8"
  }
 },
 "nbformat": 4,
 "nbformat_minor": 2
}
